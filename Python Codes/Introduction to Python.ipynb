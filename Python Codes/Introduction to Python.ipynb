{
 "cells": [
  {
   "cell_type": "markdown",
   "metadata": {},
   "source": [
    "# Content \n",
    "1. Getting started with Python, Anaconda and Jupyter notebook. \n",
    "2. Introduction to Python Libraries: Numpy,  Pandas, Matplotlib \n",
    "3. Introduction to Skitlearn. \n",
    "4. Some Basic Operation with Pandas and Numpy"
   ]
  },
  {
   "cell_type": "markdown",
   "metadata": {},
   "source": []
  },
  {
   "cell_type": "markdown",
   "metadata": {},
   "source": [
    "### Install Anaconda \n",
    "https://www.anaconda.com/products/individual "
   ]
  },
  {
   "cell_type": "markdown",
   "metadata": {},
   "source": [
    "### Install Python libraries numpy, Pandas, matplotlib \n",
    "\n",
    "#### on your terminal (for Mac) command promt (for windows)\n",
    "##### for numpy use \"conda install numpy\"   or   \"pip install numpy\" \n",
    "##### for pandas use \"conda install pandas\"\n",
    "##### for matplotlib use \"conda install -c anaconda matplotlib\"\n",
    " for any other dependencies or libraries we can use similar technique - just do a google search like \"conda install -your desired package\" and you will find the codes to run in terminal.  \n"
   ]
  },
  {
   "cell_type": "markdown",
   "metadata": {},
   "source": [
    "### scikit-learn is a machine learning library for Python. \n",
    "conda install -c intel scikit-learn"
   ]
  },
  {
   "cell_type": "code",
   "execution_count": null,
   "metadata": {},
   "outputs": [],
   "source": []
  },
  {
   "cell_type": "markdown",
   "metadata": {},
   "source": [
    "### 5 Some Basic Operation with Pandas and Numpy"
   ]
  },
  {
   "cell_type": "code",
   "execution_count": 10,
   "metadata": {},
   "outputs": [],
   "source": [
    "## Import Libraries \n",
    "\n",
    "import numpy as np\n",
    "import pandas as pd\n",
    "import matplotlib.pyplot as plt"
   ]
  },
  {
   "cell_type": "markdown",
   "metadata": {},
   "source": [
    "## 1 Basic Commands"
   ]
  },
  {
   "cell_type": "code",
   "execution_count": 2,
   "metadata": {},
   "outputs": [
    {
     "name": "stdout",
     "output_type": "stream",
     "text": [
      "[1, 30, 2, 5] \n",
      "\n",
      "4\n"
     ]
    }
   ],
   "source": [
    "## create a list x\n",
    "x = [1,3,2,5]\n",
    "print(x, \"\\n\")\n",
    "print(len(x))"
   ]
  },
  {
   "cell_type": "code",
   "execution_count": null,
   "metadata": {},
   "outputs": [],
   "source": []
  },
  {
   "cell_type": "code",
   "execution_count": 3,
   "metadata": {},
   "outputs": [],
   "source": [
    "k = 5"
   ]
  },
  {
   "cell_type": "code",
   "execution_count": 5,
   "metadata": {},
   "outputs": [
    {
     "data": {
      "text/plain": [
       "list"
      ]
     },
     "execution_count": 5,
     "metadata": {},
     "output_type": "execute_result"
    }
   ],
   "source": [
    "type(x)"
   ]
  },
  {
   "cell_type": "code",
   "execution_count": 7,
   "metadata": {},
   "outputs": [
    {
     "name": "stdout",
     "output_type": "stream",
     "text": [
      "3 \n",
      "\n",
      "2\n",
      "34\n",
      "5\n",
      "[2, 34, 5, 5]\n"
     ]
    }
   ],
   "source": [
    "# create a list and print the size of the list\n",
    "y = [1,4,3]\n",
    "print(len(y),\"\\n\")\n",
    "\n",
    "# you can use a for loop to go through all the elements one by one\n",
    "for i in y:\n",
    "    print(i+x[y.index(i)])\n",
    "\n",
    "#use for loop to add elemetns one by one\n",
    "for i in range(len(y)):\n",
    "    x[i] += y[i]\n",
    "    \n",
    "print(x)"
   ]
  },
  {
   "cell_type": "code",
   "execution_count": 8,
   "metadata": {},
   "outputs": [
    {
     "name": "stdout",
     "output_type": "stream",
     "text": [
      "['In', 'Out', '_', '_4', '_5', '__', '___', '__builtin__', '__builtins__', '__doc__', '__loader__', '__name__', '__package__', '__spec__', '_dh', '_i', '_i1', '_i2', '_i3', '_i4', '_i5', '_i6', '_i7', '_i8', '_ih', '_ii', '_iii', '_oh', 'exit', 'get_ipython', 'i', 'k', 'quit', 'x', 'y']\n",
      "['In', 'Out', '_', '_4', '_5', '__', '___', '__builtin__', '__builtins__', '__doc__', '__loader__', '__name__', '__package__', '__spec__', '_dh', '_i', '_i1', '_i2', '_i3', '_i4', '_i5', '_i6', '_i7', '_i8', '_ih', '_ii', '_iii', '_oh', 'exit', 'get_ipython', 'i', 'k', 'quit']\n"
     ]
    }
   ],
   "source": [
    "#delete the variables\n",
    "print(dir())\n",
    "del x, y\n",
    "print(dir())"
   ]
  },
  {
   "cell_type": "code",
   "execution_count": 19,
   "metadata": {},
   "outputs": [
    {
     "data": {
      "text/plain": [
       "['In',\n",
       " 'Out',\n",
       " '_',\n",
       " '_15',\n",
       " '_2',\n",
       " '_5',\n",
       " '_7',\n",
       " '_9',\n",
       " '__',\n",
       " '___',\n",
       " '__builtin__',\n",
       " '__builtins__',\n",
       " '__doc__',\n",
       " '__loader__',\n",
       " '__name__',\n",
       " '__package__',\n",
       " '__spec__',\n",
       " '_dh',\n",
       " '_i',\n",
       " '_i1',\n",
       " '_i10',\n",
       " '_i11',\n",
       " '_i12',\n",
       " '_i13',\n",
       " '_i14',\n",
       " '_i15',\n",
       " '_i16',\n",
       " '_i17',\n",
       " '_i18',\n",
       " '_i19',\n",
       " '_i2',\n",
       " '_i3',\n",
       " '_i4',\n",
       " '_i5',\n",
       " '_i6',\n",
       " '_i7',\n",
       " '_i8',\n",
       " '_i9',\n",
       " '_ih',\n",
       " '_ii',\n",
       " '_iii',\n",
       " '_oh',\n",
       " 'exit',\n",
       " 'get_ipython',\n",
       " 'i',\n",
       " 'k',\n",
       " 'np',\n",
       " 'pd',\n",
       " 'plt',\n",
       " 'quit']"
      ]
     },
     "execution_count": 19,
     "metadata": {},
     "output_type": "execute_result"
    }
   ],
   "source": [
    "dir()"
   ]
  },
  {
   "cell_type": "code",
   "execution_count": 20,
   "metadata": {},
   "outputs": [
    {
     "name": "stdout",
     "output_type": "stream",
     "text": [
      "Help on built-in function array in module numpy:\n",
      "\n",
      "array(...)\n",
      "    array(object, dtype=None, *, copy=True, order='K', subok=False, ndmin=0,\n",
      "          like=None)\n",
      "    \n",
      "    Create an array.\n",
      "    \n",
      "    Parameters\n",
      "    ----------\n",
      "    object : array_like\n",
      "        An array, any object exposing the array interface, an object whose\n",
      "        __array__ method returns an array, or any (nested) sequence.\n",
      "    dtype : data-type, optional\n",
      "        The desired data-type for the array.  If not given, then the type will\n",
      "        be determined as the minimum type required to hold the objects in the\n",
      "        sequence.\n",
      "    copy : bool, optional\n",
      "        If true (default), then the object is copied.  Otherwise, a copy will\n",
      "        only be made if __array__ returns a copy, if obj is a nested sequence,\n",
      "        or if a copy is needed to satisfy any of the other requirements\n",
      "        (`dtype`, `order`, etc.).\n",
      "    order : {'K', 'A', 'C', 'F'}, optional\n",
      "        Specify the memory layout of the array. If object is not an array, the\n",
      "        newly created array will be in C order (row major) unless 'F' is\n",
      "        specified, in which case it will be in Fortran order (column major).\n",
      "        If object is an array the following holds.\n",
      "    \n",
      "        ===== ========= ===================================================\n",
      "        order  no copy                     copy=True\n",
      "        ===== ========= ===================================================\n",
      "        'K'   unchanged F & C order preserved, otherwise most similar order\n",
      "        'A'   unchanged F order if input is F and not C, otherwise C order\n",
      "        'C'   C order   C order\n",
      "        'F'   F order   F order\n",
      "        ===== ========= ===================================================\n",
      "    \n",
      "        When ``copy=False`` and a copy is made for other reasons, the result is\n",
      "        the same as if ``copy=True``, with some exceptions for `A`, see the\n",
      "        Notes section. The default order is 'K'.\n",
      "    subok : bool, optional\n",
      "        If True, then sub-classes will be passed-through, otherwise\n",
      "        the returned array will be forced to be a base-class array (default).\n",
      "    ndmin : int, optional\n",
      "        Specifies the minimum number of dimensions that the resulting\n",
      "        array should have.  Ones will be pre-pended to the shape as\n",
      "        needed to meet this requirement.\n",
      "    like : array_like\n",
      "        Reference object to allow the creation of arrays which are not\n",
      "        NumPy arrays. If an array-like passed in as ``like`` supports\n",
      "        the ``__array_function__`` protocol, the result will be defined\n",
      "        by it. In this case, it ensures the creation of an array object\n",
      "        compatible with that passed in via this argument.\n",
      "    \n",
      "        .. note::\n",
      "            The ``like`` keyword is an experimental feature pending on\n",
      "            acceptance of :ref:`NEP 35 <NEP35>`.\n",
      "    \n",
      "        .. versionadded:: 1.20.0\n",
      "    \n",
      "    Returns\n",
      "    -------\n",
      "    out : ndarray\n",
      "        An array object satisfying the specified requirements.\n",
      "    \n",
      "    See Also\n",
      "    --------\n",
      "    empty_like : Return an empty array with shape and type of input.\n",
      "    ones_like : Return an array of ones with shape and type of input.\n",
      "    zeros_like : Return an array of zeros with shape and type of input.\n",
      "    full_like : Return a new array with shape of input filled with value.\n",
      "    empty : Return a new uninitialized array.\n",
      "    ones : Return a new array setting values to one.\n",
      "    zeros : Return a new array setting values to zero.\n",
      "    full : Return a new array of given shape filled with value.\n",
      "    \n",
      "    \n",
      "    Notes\n",
      "    -----\n",
      "    When order is 'A' and `object` is an array in neither 'C' nor 'F' order,\n",
      "    and a copy is forced by a change in dtype, then the order of the result is\n",
      "    not necessarily 'C' as expected. This is likely a bug.\n",
      "    \n",
      "    Examples\n",
      "    --------\n",
      "    >>> np.array([1, 2, 3])\n",
      "    array([1, 2, 3])\n",
      "    \n",
      "    Upcasting:\n",
      "    \n",
      "    >>> np.array([1, 2, 3.0])\n",
      "    array([ 1.,  2.,  3.])\n",
      "    \n",
      "    More than one dimension:\n",
      "    \n",
      "    >>> np.array([[1, 2], [3, 4]])\n",
      "    array([[1, 2],\n",
      "           [3, 4]])\n",
      "    \n",
      "    Minimum dimensions 2:\n",
      "    \n",
      "    >>> np.array([1, 2, 3], ndmin=2)\n",
      "    array([[1, 2, 3]])\n",
      "    \n",
      "    Type provided:\n",
      "    \n",
      "    >>> np.array([1, 2, 3], dtype=complex)\n",
      "    array([ 1.+0.j,  2.+0.j,  3.+0.j])\n",
      "    \n",
      "    Data-type consisting of more than one element:\n",
      "    \n",
      "    >>> x = np.array([(1,2),(3,4)],dtype=[('a','<i4'),('b','<i4')])\n",
      "    >>> x['a']\n",
      "    array([1, 3])\n",
      "    \n",
      "    Creating an array from sub-classes:\n",
      "    \n",
      "    >>> np.array(np.mat('1 2; 3 4'))\n",
      "    array([[1, 2],\n",
      "           [3, 4]])\n",
      "    \n",
      "    >>> np.array(np.mat('1 2; 3 4'), subok=True)\n",
      "    matrix([[1, 2],\n",
      "            [3, 4]])\n",
      "\n"
     ]
    }
   ],
   "source": [
    "# You can use help function for any functions\n",
    "help(np.array)"
   ]
  },
  {
   "cell_type": "code",
   "execution_count": 11,
   "metadata": {},
   "outputs": [
    {
     "name": "stdout",
     "output_type": "stream",
     "text": [
      "[[1 2]\n",
      " [3 4]]\n"
     ]
    }
   ],
   "source": [
    "#create a two dimensional array\n",
    "x = np.array(object = [[1,2],[3,4]])\n",
    "print(x)\n"
   ]
  },
  {
   "cell_type": "code",
   "execution_count": 12,
   "metadata": {},
   "outputs": [],
   "source": [
    "# create a text file\n",
    "a_file=open(\"test.txt\", \"w\")\n",
    "np.savetxt(a_file, x)"
   ]
  },
  {
   "cell_type": "code",
   "execution_count": 13,
   "metadata": {},
   "outputs": [],
   "source": [
    "a_file.close()"
   ]
  },
  {
   "cell_type": "code",
   "execution_count": 14,
   "metadata": {},
   "outputs": [
    {
     "name": "stdout",
     "output_type": "stream",
     "text": [
      "/Users/ajimuddin/Desktop/NJIT Teaching/FIN-611-Online/Python Codes\r\n"
     ]
    }
   ],
   "source": [
    "#check the current working directory \n",
    "!pwd"
   ]
  },
  {
   "cell_type": "code",
   "execution_count": 15,
   "metadata": {},
   "outputs": [
    {
     "name": "stdout",
     "output_type": "stream",
     "text": [
      "[[ 1  4]\n",
      " [ 9 16]]\n",
      "[[ 1  4]\n",
      " [ 9 16]]\n"
     ]
    }
   ],
   "source": [
    "# Smple array operation \n",
    "# ind the difference between two multiplication? \n",
    "print(x**2)\n",
    "print(x*x)"
   ]
  },
  {
   "cell_type": "code",
   "execution_count": 19,
   "metadata": {},
   "outputs": [],
   "source": [
    "#saving a numpy file\n",
    "x = np.arange(10)\n",
    "np.save(\"outfile\", x)"
   ]
  },
  {
   "cell_type": "code",
   "execution_count": 20,
   "metadata": {},
   "outputs": [
    {
     "data": {
      "text/plain": [
       "array([0, 1, 2, 3, 4, 5, 6, 7, 8, 9])"
      ]
     },
     "execution_count": 20,
     "metadata": {},
     "output_type": "execute_result"
    }
   ],
   "source": [
    "x"
   ]
  },
  {
   "cell_type": "code",
   "execution_count": null,
   "metadata": {},
   "outputs": [],
   "source": []
  },
  {
   "cell_type": "code",
   "execution_count": 21,
   "metadata": {},
   "outputs": [],
   "source": [
    "#loading a numpy file\n",
    "a=np.load(\"outfile.npy\")\n"
   ]
  },
  {
   "cell_type": "code",
   "execution_count": 22,
   "metadata": {},
   "outputs": [
    {
     "data": {
      "text/plain": [
       "array([0, 1, 2, 3, 4, 5, 6, 7, 8, 9])"
      ]
     },
     "execution_count": 22,
     "metadata": {},
     "output_type": "execute_result"
    }
   ],
   "source": []
  },
  {
   "cell_type": "code",
   "execution_count": 23,
   "metadata": {},
   "outputs": [
    {
     "data": {
      "text/plain": [
       "array([0.70882552, 0.18195789, 0.20861525, 0.8065797 , 0.00321973,\n",
       "       0.88865066, 0.79680506, 0.54966876, 0.68611955, 0.68268157])"
      ]
     },
     "execution_count": 23,
     "metadata": {},
     "output_type": "execute_result"
    }
   ],
   "source": [
    "np.random.rand(10)"
   ]
  },
  {
   "cell_type": "code",
   "execution_count": 33,
   "metadata": {},
   "outputs": [
    {
     "name": "stdout",
     "output_type": "stream",
     "text": [
      "input is [0.44708065 0.88598661 0.67731697 0.21396639 0.14322044]\n",
      "input is [0.18905309 0.37296321 0.59957505 0.59385062 0.69160525]\n",
      "input is [0.16485339 0.69306605 0.86615815 0.68077152 0.336713  ]\n",
      "input is [0.02303475 0.37736715 0.74090112 0.47295417 0.09369264]\n",
      "input is [0.31604355 0.15742871 0.62482018 0.09211796 0.7772489 ]\n",
      "input is [0.73050953 0.16299991 0.4070453  0.3819295  0.60517503]\n",
      "input is [0.91568447 0.5969633  0.64370003 0.31707205 0.30730979]\n",
      "input is [0.67067417 0.86238095 0.51525289 0.60773506 0.03582709]\n",
      "input is [0.03359277 0.28959476 0.11658239 0.10793683 0.94526394]\n",
      "input is [0.88092359 0.49100561 0.23404005 0.09496763 0.22563399]\n",
      "[0.44708065 0.88598661 0.67731697 0.21396639 0.14322044]\n",
      "[0.18905309 0.37296321 0.59957505 0.59385062 0.69160525]\n",
      "[0.16485339 0.69306605 0.86615815 0.68077152 0.336713  ]\n",
      "[0.02303475 0.37736715 0.74090112 0.47295417 0.09369264]\n",
      "[0.31604355 0.15742871 0.62482018 0.09211796 0.7772489 ]\n",
      "[0.73050953 0.16299991 0.4070453  0.3819295  0.60517503]\n",
      "[0.91568447 0.5969633  0.64370003 0.31707205 0.30730979]\n",
      "[0.67067417 0.86238095 0.51525289 0.60773506 0.03582709]\n",
      "[0.03359277 0.28959476 0.11658239 0.10793683 0.94526394]\n",
      "[0.88092359 0.49100561 0.23404005 0.09496763 0.22563399]\n"
     ]
    }
   ],
   "source": [
    "with open('test.npy', 'wb') as f:\n",
    "    for i in np.arange(10):\n",
    "        a= np.random.rand(5)\n",
    "        np.save(f, a)\n",
    "        print(\"input is\", a)\n",
    "    \n",
    "with open('test.npy', 'rb') as f:\n",
    "    for i in np.arange(10):                \n",
    "        print(np.load(f))\n",
    "    "
   ]
  },
  {
   "cell_type": "code",
   "execution_count": 35,
   "metadata": {},
   "outputs": [
    {
     "name": "stdout",
     "output_type": "stream",
     "text": [
      "yes\n"
     ]
    }
   ],
   "source": [
    "if (100%10) ==0:\n",
    "    print (\"yes\")"
   ]
  },
  {
   "cell_type": "code",
   "execution_count": 10,
   "metadata": {},
   "outputs": [
    {
     "name": "stdout",
     "output_type": "stream",
     "text": [
      "[[1.         0.99608616]\n",
      " [0.99608616 1.        ]]\n"
     ]
    }
   ],
   "source": [
    "x = np.random.normal(size = 50)\n",
    "y = x + np.random.normal(loc = 50, scale = .1, size = 50)\n",
    "print(np.corrcoef(x,y))"
   ]
  },
  {
   "cell_type": "code",
   "execution_count": 11,
   "metadata": {},
   "outputs": [
    {
     "name": "stdout",
     "output_type": "stream",
     "text": [
      "[-0.03425693  0.06035959  0.45511859 -0.36593175 -1.6773304   0.5910023\n",
      "  0.41090101  0.46972388 -1.50462476 -0.70082238  1.43196963  0.35474484\n",
      "  1.67574682  1.62741373  0.27015354  0.15248539  0.11593596  0.89272237\n",
      " -2.16627436  0.26787192  0.36658207  2.72335408  0.44060293  0.36036757\n",
      "  0.38119264 -0.27845602  1.73458476 -1.48138111 -0.47556927 -0.1932596\n",
      "  0.68115816 -0.05143463 -0.59151688  0.02292374 -0.12259196  0.50633508\n",
      "  0.63181139 -0.2443932   0.39847385 -1.2716468   0.43167303 -1.36491646\n",
      "  0.91004701  0.65707308 -0.080445   -1.12057881 -1.31479423  0.26394714\n",
      " -0.59459381 -0.07624482]\n"
     ]
    }
   ],
   "source": [
    "np.random.seed(1303)\n",
    "print(np.random.normal(size = 50))"
   ]
  },
  {
   "cell_type": "code",
   "execution_count": 21,
   "metadata": {},
   "outputs": [
    {
     "name": "stdout",
     "output_type": "stream",
     "text": [
      "-0.10863707440606224\n",
      "1.132081888283007\n",
      "1.0639933685333791\n",
      "1.0639933685333791\n"
     ]
    }
   ],
   "source": [
    "np.random.seed(3)\n",
    "y = np.random.normal(size = 100)\n",
    "print(np.mean(y))\n",
    "print(np.var(y))\n",
    "print(np.sqrt(np.var(y)))\n",
    "print(np.std(y))"
   ]
  },
  {
   "cell_type": "code",
   "execution_count": null,
   "metadata": {},
   "outputs": [],
   "source": []
  },
  {
   "cell_type": "markdown",
   "metadata": {},
   "source": [
    "## 2. Graphics"
   ]
  },
  {
   "cell_type": "code",
   "execution_count": 24,
   "metadata": {},
   "outputs": [
    {
     "data": {
      "image/png": "[encoded data removed]",
      "text/plain": [
       "<Figure size 432x288 with 1 Axes>"
      ]
     },
     "metadata": {
      "needs_background": "light"
     },
     "output_type": "display_data"
    }
   ],
   "source": [
    "# Lets create two variables and plot the data\n",
    "# Note that we are using matplotlib to plot the data\n",
    "x = np.random.normal(size = 100)\n",
    "y = np.random.normal(size = 100)\n",
    "plt.scatter(x, y)\n",
    "plt.show()"
   ]
  },
  {
   "cell_type": "code",
   "execution_count": 33,
   "metadata": {},
   "outputs": [
    {
     "data": {
      "image/png": "[encoded data removed]",
      "text/plain": [
       "<Figure size 432x288 with 1 Axes>"
      ]
     },
     "metadata": {
      "needs_background": "light"
     },
     "output_type": "display_data"
    }
   ],
   "source": [
    "# let add some axis title\n",
    "fig = plt.figure()\n",
    "plt.scatter(x, y, color = \"green\")\n",
    "plt.xlabel(\"this is the x-axis\")\n",
    "plt.ylabel(\"this is the y-axis\")\n",
    "plt.title(\"Plot of X vs Y\")\n",
    "plt.show()"
   ]
  },
  {
   "cell_type": "code",
   "execution_count": 34,
   "metadata": {},
   "outputs": [
    {
     "data": {
      "image/png": "[encoded data removed]",
      "text/plain": [
       "<Figure size 432x288 with 1 Axes>"
      ]
     },
     "metadata": {
      "needs_background": "light"
     },
     "output_type": "display_data"
    }
   ],
   "source": [
    "# you can save the figure with savefig.function\n",
    "fig.savefig(\"Figure.pdf\")\n",
    "plt.scatter(x, y, color = \"green\")\n",
    "\n",
    "plt.show()"
   ]
  },
  {
   "cell_type": "code",
   "execution_count": 36,
   "metadata": {},
   "outputs": [
    {
     "name": "stdout",
     "output_type": "stream",
     "text": [
      "[1, 2, 3, 4, 5, 6, 7, 8, 9]\n",
      "[1 3 5 7 9]\n"
     ]
    }
   ],
   "source": [
    "# crating array of a range\n",
    "x = list(range(1,10)) # list\n",
    "print(x)\n",
    "x = np.arange(1,10, 2) # array\n",
    "print(x)"
   ]
  },
  {
   "cell_type": "code",
   "execution_count": 43,
   "metadata": {},
   "outputs": [
    {
     "name": "stdout",
     "output_type": "stream",
     "text": [
      "[-3.14159265 -3.01336438 -2.88513611 -2.75690784 -2.62867957 -2.5004513\n",
      " -2.37222302 -2.24399475 -2.11576648 -1.98753821 -1.85930994 -1.73108167\n",
      " -1.60285339 -1.47462512 -1.34639685 -1.21816858 -1.08994031 -0.96171204\n",
      " -0.83348377 -0.70525549 -0.57702722 -0.44879895 -0.32057068 -0.19234241\n",
      " -0.06411414  0.06411414  0.19234241  0.32057068  0.44879895  0.57702722\n",
      "  0.70525549  0.83348377  0.96171204  1.08994031  1.21816858  1.34639685\n",
      "  1.47462512  1.60285339  1.73108167  1.85930994  1.98753821  2.11576648\n",
      "  2.24399475  2.37222302  2.5004513   2.62867957  2.75690784  2.88513611\n",
      "  3.01336438  3.14159265]\n"
     ]
    }
   ],
   "source": [
    "x = np.linspace(-np.pi, np.pi, 50)\n",
    "print(x)\n",
    "y = x"
   ]
  },
  {
   "cell_type": "code",
   "execution_count": 41,
   "metadata": {},
   "outputs": [],
   "source": [
    "# you can create your own defination. \n",
    "\n",
    "def f(x, y):\n",
    "    z = np.cos(y)/(1+x**2)\n",
    "    \n",
    "    return z"
   ]
  },
  {
   "cell_type": "code",
   "execution_count": 42,
   "metadata": {},
   "outputs": [
    {
     "data": {
      "text/plain": [
       "-0.03227198188755586"
      ]
     },
     "execution_count": 42,
     "metadata": {},
     "output_type": "execute_result"
    }
   ],
   "source": [
    "f(5, 10)"
   ]
  },
  {
   "cell_type": "code",
   "execution_count": 40,
   "metadata": {},
   "outputs": [
    {
     "name": "stdout",
     "output_type": "stream",
     "text": [
      "Help on function contourf in module matplotlib.pyplot:\n",
      "\n",
      "contourf(*args, data=None, **kwargs)\n",
      "    Plot filled contours.\n",
      "    \n",
      "    Call signature::\n",
      "    \n",
      "        contourf([X, Y,] Z, [levels], **kwargs)\n",
      "    \n",
      "    `.contour` and `.contourf` draw contour lines and filled contours,\n",
      "    respectively.  Except as noted, function signatures and return values\n",
      "    are the same for both versions.\n",
      "    \n",
      "    Parameters\n",
      "    ----------\n",
      "    X, Y : array-like, optional\n",
      "        The coordinates of the values in *Z*.\n",
      "    \n",
      "        *X* and *Y* must both be 2D with the same shape as *Z* (e.g.\n",
      "        created via `numpy.meshgrid`), or they must both be 1-D such\n",
      "        that ``len(X) == M`` is the number of columns in *Z* and\n",
      "        ``len(Y) == N`` is the number of rows in *Z*.\n",
      "    \n",
      "        If not given, they are assumed to be integer indices, i.e.\n",
      "        ``X = range(M)``, ``Y = range(N)``.\n",
      "    \n",
      "    Z : (M, N) array-like\n",
      "        The height values over which the contour is drawn.\n",
      "    \n",
      "    levels : int or array-like, optional\n",
      "        Determines the number and positions of the contour lines / regions.\n",
      "    \n",
      "        If an int *n*, use `~matplotlib.ticker.MaxNLocator`, which tries\n",
      "        to automatically choose no more than *n+1* \"nice\" contour levels\n",
      "        between *vmin* and *vmax*.\n",
      "    \n",
      "        If array-like, draw contour lines at the specified levels.\n",
      "        The values must be in increasing order.\n",
      "    \n",
      "    Returns\n",
      "    -------\n",
      "    `~.contour.QuadContourSet`\n",
      "    \n",
      "    Other Parameters\n",
      "    ----------------\n",
      "    corner_mask : bool, default: :rc:`contour.corner_mask`\n",
      "        Enable/disable corner masking, which only has an effect if *Z* is\n",
      "        a masked array.  If ``False``, any quad touching a masked point is\n",
      "        masked out.  If ``True``, only the triangular corners of quads\n",
      "        nearest those points are always masked out, other triangular\n",
      "        corners comprising three unmasked points are contoured as usual.\n",
      "    \n",
      "    colors : color string or sequence of colors, optional\n",
      "        The colors of the levels, i.e. the lines for `.contour` and the\n",
      "        areas for `.contourf`.\n",
      "    \n",
      "        The sequence is cycled for the levels in ascending order. If the\n",
      "        sequence is shorter than the number of levels, it's repeated.\n",
      "    \n",
      "        As a shortcut, single color strings may be used in place of\n",
      "        one-element lists, i.e. ``'red'`` instead of ``['red']`` to color\n",
      "        all levels with the same color. This shortcut does only work for\n",
      "        color strings, not for other ways of specifying colors.\n",
      "    \n",
      "        By default (value *None*), the colormap specified by *cmap*\n",
      "        will be used.\n",
      "    \n",
      "    alpha : float, default: 1\n",
      "        The alpha blending value, between 0 (transparent) and 1 (opaque).\n",
      "    \n",
      "    cmap : str or `.Colormap`, default: :rc:`image.cmap`\n",
      "        A `.Colormap` instance or registered colormap name. The colormap\n",
      "        maps the level values to colors.\n",
      "    \n",
      "        If both *colors* and *cmap* are given, an error is raised.\n",
      "    \n",
      "    norm : `~matplotlib.colors.Normalize`, optional\n",
      "        If a colormap is used, the `.Normalize` instance scales the level\n",
      "        values to the canonical colormap range [0, 1] for mapping to\n",
      "        colors. If not given, the default linear scaling is used.\n",
      "    \n",
      "    vmin, vmax : float, optional\n",
      "        If not *None*, either or both of these values will be supplied to\n",
      "        the `.Normalize` instance, overriding the default color scaling\n",
      "        based on *levels*.\n",
      "    \n",
      "    origin : {*None*, 'upper', 'lower', 'image'}, default: None\n",
      "        Determines the orientation and exact position of *Z* by specifying\n",
      "        the position of ``Z[0, 0]``.  This is only relevant, if *X*, *Y*\n",
      "        are not given.\n",
      "    \n",
      "        - *None*: ``Z[0, 0]`` is at X=0, Y=0 in the lower left corner.\n",
      "        - 'lower': ``Z[0, 0]`` is at X=0.5, Y=0.5 in the lower left corner.\n",
      "        - 'upper': ``Z[0, 0]`` is at X=N+0.5, Y=0.5 in the upper left\n",
      "          corner.\n",
      "        - 'image': Use the value from :rc:`image.origin`.\n",
      "    \n",
      "    extent : (x0, x1, y0, y1), optional\n",
      "        If *origin* is not *None*, then *extent* is interpreted as in\n",
      "        `.imshow`: it gives the outer pixel boundaries. In this case, the\n",
      "        position of Z[0, 0] is the center of the pixel, not a corner. If\n",
      "        *origin* is *None*, then (*x0*, *y0*) is the position of Z[0, 0],\n",
      "        and (*x1*, *y1*) is the position of Z[-1, -1].\n",
      "    \n",
      "        This argument is ignored if *X* and *Y* are specified in the call\n",
      "        to contour.\n",
      "    \n",
      "    locator : ticker.Locator subclass, optional\n",
      "        The locator is used to determine the contour levels if they\n",
      "        are not given explicitly via *levels*.\n",
      "        Defaults to `~.ticker.MaxNLocator`.\n",
      "    \n",
      "    extend : {'neither', 'both', 'min', 'max'}, default: 'neither'\n",
      "        Determines the ``contourf``-coloring of values that are outside the\n",
      "        *levels* range.\n",
      "    \n",
      "        If 'neither', values outside the *levels* range are not colored.\n",
      "        If 'min', 'max' or 'both', color the values below, above or below\n",
      "        and above the *levels* range.\n",
      "    \n",
      "        Values below ``min(levels)`` and above ``max(levels)`` are mapped\n",
      "        to the under/over values of the `.Colormap`. Note that most\n",
      "        colormaps do not have dedicated colors for these by default, so\n",
      "        that the over and under values are the edge values of the colormap.\n",
      "        You may want to set these values explicitly using\n",
      "        `.Colormap.set_under` and `.Colormap.set_over`.\n",
      "    \n",
      "        .. note::\n",
      "    \n",
      "            An existing `.QuadContourSet` does not get notified if\n",
      "            properties of its colormap are changed. Therefore, an explicit\n",
      "            call `.QuadContourSet.changed()` is needed after modifying the\n",
      "            colormap. The explicit call can be left out, if a colorbar is\n",
      "            assigned to the `.QuadContourSet` because it internally calls\n",
      "            `.QuadContourSet.changed()`.\n",
      "    \n",
      "        Example::\n",
      "    \n",
      "            x = np.arange(1, 10)\n",
      "            y = x.reshape(-1, 1)\n",
      "            h = x * y\n",
      "    \n",
      "            cs = plt.contourf(h, levels=[10, 30, 50],\n",
      "                colors=['#808080', '#A0A0A0', '#C0C0C0'], extend='both')\n",
      "            cs.cmap.set_over('red')\n",
      "            cs.cmap.set_under('blue')\n",
      "            cs.changed()\n",
      "    \n",
      "    xunits, yunits : registered units, optional\n",
      "        Override axis units by specifying an instance of a\n",
      "        :class:`matplotlib.units.ConversionInterface`.\n",
      "    \n",
      "    antialiased : bool, optional\n",
      "        Enable antialiasing, overriding the defaults.  For\n",
      "        filled contours, the default is *True*.  For line contours,\n",
      "        it is taken from :rc:`lines.antialiased`.\n",
      "    \n",
      "    nchunk : int >= 0, optional\n",
      "        If 0, no subdivision of the domain.  Specify a positive integer to\n",
      "        divide the domain into subdomains of *nchunk* by *nchunk* quads.\n",
      "        Chunking reduces the maximum length of polygons generated by the\n",
      "        contouring algorithm which reduces the rendering workload passed\n",
      "        on to the backend and also requires slightly less RAM.  It can\n",
      "        however introduce rendering artifacts at chunk boundaries depending\n",
      "        on the backend, the *antialiased* flag and value of *alpha*.\n",
      "    \n",
      "    linewidths : float or array-like, default: :rc:`contour.linewidth`\n",
      "        *Only applies to* `.contour`.\n",
      "    \n",
      "        The line width of the contour lines.\n",
      "    \n",
      "        If a number, all levels will be plotted with this linewidth.\n",
      "    \n",
      "        If a sequence, the levels in ascending order will be plotted with\n",
      "        the linewidths in the order specified.\n",
      "    \n",
      "        If None, this falls back to :rc:`lines.linewidth`.\n",
      "    \n",
      "    linestyles : {*None*, 'solid', 'dashed', 'dashdot', 'dotted'}, optional\n",
      "        *Only applies to* `.contour`.\n",
      "    \n",
      "        If *linestyles* is *None*, the default is 'solid' unless the lines\n",
      "        are monochrome.  In that case, negative contours will take their\n",
      "        linestyle from :rc:`contour.negative_linestyle` setting.\n",
      "    \n",
      "        *linestyles* can also be an iterable of the above strings\n",
      "        specifying a set of linestyles to be used. If this\n",
      "        iterable is shorter than the number of contour levels\n",
      "        it will be repeated as necessary.\n",
      "    \n",
      "    hatches : list[str], optional\n",
      "        *Only applies to* `.contourf`.\n",
      "    \n",
      "        A list of cross hatch patterns to use on the filled areas.\n",
      "        If None, no hatching will be added to the contour.\n",
      "        Hatching is supported in the PostScript, PDF, SVG and Agg\n",
      "        backends only.\n",
      "    \n",
      "    Notes\n",
      "    -----\n",
      "    1. `.contourf` differs from the MATLAB version in that it does not draw\n",
      "       the polygon edges. To draw edges, add line contours with calls to\n",
      "       `.contour`.\n",
      "    \n",
      "    2. `.contourf` fills intervals that are closed at the top; that is, for\n",
      "       boundaries *z1* and *z2*, the filled region is::\n",
      "    \n",
      "          z1 < Z <= z2\n",
      "    \n",
      "       except for the lowest interval, which is closed on both sides (i.e.\n",
      "       it includes the lowest value).\n",
      "\n"
     ]
    }
   ],
   "source": [
    "help(plt.contourf)"
   ]
  },
  {
   "cell_type": "code",
   "execution_count": 44,
   "metadata": {},
   "outputs": [
    {
     "data": {
      "image/png": "[encoded data removed]",
      "text/plain": [
       "<Figure size 432x288 with 1 Axes>"
      ]
     },
     "metadata": {
      "needs_background": "light"
     },
     "output_type": "display_data"
    },
    {
     "data": {
      "image/png": "[encoded data removed]",
      "text/plain": [
       "<Figure size 432x288 with 1 Axes>"
      ]
     },
     "metadata": {
      "needs_background": "light"
     },
     "output_type": "display_data"
    }
   ],
   "source": [
    "X, Y = np.meshgrid(x, y)\n",
    "Z = f(X, Y)\n",
    "plt.contour(X, Y, Z, 20, cmap = 'RdGy')\n",
    "plt.show()\n",
    "plt.contourf(X, Y, Z, 20)\n",
    "plt.show()"
   ]
  },
  {
   "cell_type": "code",
   "execution_count": null,
   "metadata": {},
   "outputs": [],
   "source": []
  },
  {
   "cell_type": "markdown",
   "metadata": {},
   "source": [
    "## 3. Indexing Data"
   ]
  },
  {
   "cell_type": "code",
   "execution_count": 45,
   "metadata": {},
   "outputs": [
    {
     "name": "stdout",
     "output_type": "stream",
     "text": [
      "[[ 1  5  9 13]\n",
      " [ 2  6 10 14]\n",
      " [ 3  7 11 15]\n",
      " [ 4  8 12 16]]\n"
     ]
    }
   ],
   "source": [
    "#We often wish to examine part of a set of data. Suppose that our data is stored in the matrix A.\n",
    "\n",
    "A = np.arange(1,17).reshape(4,4).T\n",
    "print(A)"
   ]
  },
  {
   "cell_type": "code",
   "execution_count": 46,
   "metadata": {
    "scrolled": true
   },
   "outputs": [
    {
     "name": "stdout",
     "output_type": "stream",
     "text": [
      "3\n"
     ]
    }
   ],
   "source": [
    "# select the element corresponding to the second row and the third column.\n",
    "# Remember Python indexing start from 0\n",
    "print(A[2,0])"
   ]
  },
  {
   "cell_type": "code",
   "execution_count": 48,
   "metadata": {},
   "outputs": [
    {
     "name": "stdout",
     "output_type": "stream",
     "text": [
      "[ 5 13  7 15] \n",
      "\n",
      "[[ 5  9 13]\n",
      " [ 6 10 14]\n",
      " [ 7 11 15]] \n",
      "\n",
      "[[ 1  5  9 13]\n",
      " [ 2  6 10 14]] \n",
      "\n",
      "[[1 5]\n",
      " [2 6]\n",
      " [3 7]\n",
      " [4 8]] \n",
      "\n",
      "[ 1  5  9 13]\n"
     ]
    }
   ],
   "source": [
    "# try this indexing techniques and see how it works\n",
    "print(A[[0,0,2,2],[1,3,1,3]], '\\n')\n",
    "\n",
    "print(A[0:3,1:4], '\\n')\n",
    "\n",
    "print(A[0:2,], '\\n')\n",
    "\n",
    "print(A[:,0:2], '\\n')\n",
    "\n",
    "print(A[0,])"
   ]
  },
  {
   "cell_type": "code",
   "execution_count": 22,
   "metadata": {},
   "outputs": [
    {
     "name": "stdout",
     "output_type": "stream",
     "text": [
      "[[ 2  6 10 14]\n",
      " [ 4  8 12 16]] \n",
      "\n",
      "[6 8] \n",
      "\n",
      "(4, 4)\n"
     ]
    }
   ],
   "source": [
    "nrow = set(range(A.shape[0]))\n",
    "ncol = set(range(A.shape[1]))\n",
    "row_leave = set([0,2])\n",
    "col_leave = set([0,2,3])\n",
    "print(A[list(nrow - row_leave),], '\\n')\n",
    "print(A[list(nrow - row_leave), list(ncol - col_leave)], '\\n')\n",
    "print(A.shape)"
   ]
  },
  {
   "cell_type": "markdown",
   "metadata": {},
   "source": [
    "## 4 Loading data"
   ]
  },
  {
   "cell_type": "code",
   "execution_count": 47,
   "metadata": {
    "scrolled": true
   },
   "outputs": [
    {
     "name": "stdout",
     "output_type": "stream",
     "text": [
      "   Unnamed: 0   mpg  cylinders  displacement  horsepower  weight  \\\n",
      "0           1  18.0          8         307.0         130    3504   \n",
      "1           2  15.0          8         350.0         165    3693   \n",
      "2           3  18.0          8         318.0         150    3436   \n",
      "3           4  16.0          8         304.0         150    3433   \n",
      "4           5  17.0          8         302.0         140    3449   \n",
      "\n",
      "   acceleration  year  origin                       name  \n",
      "0          12.0    70       1  chevrolet chevelle malibu  \n",
      "1          11.5    70       1          buick skylark 320  \n",
      "2          11.0    70       1         plymouth satellite  \n",
      "3          12.0    70       1              amc rebel sst  \n",
      "4          10.5    70       1                ford torino  \n"
     ]
    }
   ],
   "source": [
    "# often you will have data in a seperate file, you need to load the data\n",
    "Auto = pd.read_table(\"Auto.csv\", sep = ',')\n",
    "print(Auto.head())"
   ]
  },
  {
   "cell_type": "code",
   "execution_count": 48,
   "metadata": {},
   "outputs": [
    {
     "name": "stdout",
     "output_type": "stream",
     "text": [
      "(392, 10)\n",
      "   Unnamed: 0   mpg  cylinders  displacement  horsepower  weight  \\\n",
      "0           1  18.0          8         307.0         130    3504   \n",
      "1           2  15.0          8         350.0         165    3693   \n",
      "2           3  18.0          8         318.0         150    3436   \n",
      "3           4  16.0          8         304.0         150    3433   \n",
      "\n",
      "   acceleration  year  origin                       name  \n",
      "0          12.0    70       1  chevrolet chevelle malibu  \n",
      "1          11.5    70       1          buick skylark 320  \n",
      "2          11.0    70       1         plymouth satellite  \n",
      "3          12.0    70       1              amc rebel sst  \n"
     ]
    }
   ],
   "source": [
    "#print the shape of the data, and then check the data in the first four rows  \n",
    "print(Auto.shape)\n",
    "print(Auto.loc[0:3,])"
   ]
  },
  {
   "cell_type": "code",
   "execution_count": 25,
   "metadata": {},
   "outputs": [
    {
     "name": "stdout",
     "output_type": "stream",
     "text": [
      "(392, 10)\n"
     ]
    }
   ],
   "source": [
    "# drop NAN/missing values. \n",
    "Auto = Auto.dropna(how = 'any', axis = 0)\n",
    "print(Auto.shape)"
   ]
  },
  {
   "cell_type": "code",
   "execution_count": 26,
   "metadata": {},
   "outputs": [
    {
     "name": "stdout",
     "output_type": "stream",
     "text": [
      "Index(['Unnamed: 0', 'mpg', 'cylinders', 'displacement', 'horsepower',\n",
      "       'weight', 'acceleration', 'year', 'origin', 'name'],\n",
      "      dtype='object')\n",
      "['Unnamed: 0', 'mpg', 'cylinders', 'displacement', 'horsepower', 'weight', 'acceleration', 'year', 'origin', 'name']\n"
     ]
    }
   ],
   "source": [
    "#print the name of the colums\n",
    "print(Auto.columns)\n",
    "print(Auto.columns.tolist())"
   ]
  },
  {
   "cell_type": "markdown",
   "metadata": {},
   "source": [
    "## 5 Additional Graphical and Numerical Summaries"
   ]
  },
  {
   "cell_type": "code",
   "execution_count": 35,
   "metadata": {},
   "outputs": [
    {
     "data": {
      "image/png": "[encoded data removed]",
      "text/plain": [
       "<Figure size 432x288 with 1 Axes>"
      ]
     },
     "metadata": {
      "needs_background": "light"
     },
     "output_type": "display_data"
    },
    {
     "data": {
      "image/png": "[encoded data removed]",
      "text/plain": [
       "<Figure size 432x288 with 1 Axes>"
      ]
     },
     "metadata": {
      "needs_background": "light"
     },
     "output_type": "display_data"
    }
   ],
   "source": [
    "# you can draw the plots on the real data\n",
    "plt.scatter(Auto.cylinders, Auto.mpg)\n",
    "plt.show()\n",
    "plt.scatter(Auto['cylinders'], Auto['mpg'])\n",
    "plt.show()"
   ]
  },
  {
   "cell_type": "code",
   "execution_count": 41,
   "metadata": {},
   "outputs": [
    {
     "data": {
      "image/png": "[encoded data removed]",
      "text/plain": [
       "<Figure size 432x288 with 1 Axes>"
      ]
     },
     "metadata": {},
     "output_type": "display_data"
    }
   ],
   "source": [
    "plt.scatter(Auto.cylinders, Auto.mpg, color = 'red')\n",
    "plt.xlabel(\"cylinders\")\n",
    "plt.ylabel('MPG')\n",
    "plt.show()"
   ]
  },
  {
   "cell_type": "code",
   "execution_count": 50,
   "metadata": {},
   "outputs": [
    {
     "data": {
      "image/png": "[encoded data removed]",
      "text/plain": [
       "<Figure size 432x288 with 1 Axes>"
      ]
     },
     "metadata": {
      "needs_background": "light"
     },
     "output_type": "display_data"
    }
   ],
   "source": [
    "#histogram of mpg\n",
    "plt.hist(Auto.mpg, bins = 20, color = 'blue', edgecolor = 'black')\n",
    "plt.show()"
   ]
  },
  {
   "cell_type": "code",
   "execution_count": 51,
   "metadata": {},
   "outputs": [
    {
     "data": {
      "text/html": [
       "<div>\n",
       "<style scoped>\n",
       "    .dataframe tbody tr th:only-of-type {\n",
       "        vertical-align: middle;\n",
       "    }\n",
       "\n",
       "    .dataframe tbody tr th {\n",
       "        vertical-align: top;\n",
       "    }\n",
       "\n",
       "    .dataframe thead th {\n",
       "        text-align: right;\n",
       "    }\n",
       "</style>\n",
       "<table border=\"1\" class=\"dataframe\">\n",
       "  <thead>\n",
       "    <tr style=\"text-align: right;\">\n",
       "      <th></th>\n",
       "      <th>Unnamed: 0</th>\n",
       "      <th>mpg</th>\n",
       "      <th>cylinders</th>\n",
       "      <th>displacement</th>\n",
       "      <th>horsepower</th>\n",
       "      <th>weight</th>\n",
       "      <th>acceleration</th>\n",
       "      <th>year</th>\n",
       "      <th>origin</th>\n",
       "    </tr>\n",
       "  </thead>\n",
       "  <tbody>\n",
       "    <tr>\n",
       "      <th>count</th>\n",
       "      <td>392.000000</td>\n",
       "      <td>392.000000</td>\n",
       "      <td>392.000000</td>\n",
       "      <td>392.000000</td>\n",
       "      <td>392.000000</td>\n",
       "      <td>392.000000</td>\n",
       "      <td>392.000000</td>\n",
       "      <td>392.000000</td>\n",
       "      <td>392.000000</td>\n",
       "    </tr>\n",
       "    <tr>\n",
       "      <th>mean</th>\n",
       "      <td>198.520408</td>\n",
       "      <td>23.445918</td>\n",
       "      <td>5.471939</td>\n",
       "      <td>194.411990</td>\n",
       "      <td>104.469388</td>\n",
       "      <td>2977.584184</td>\n",
       "      <td>15.541327</td>\n",
       "      <td>75.979592</td>\n",
       "      <td>1.576531</td>\n",
       "    </tr>\n",
       "    <tr>\n",
       "      <th>std</th>\n",
       "      <td>114.438067</td>\n",
       "      <td>7.805007</td>\n",
       "      <td>1.705783</td>\n",
       "      <td>104.644004</td>\n",
       "      <td>38.491160</td>\n",
       "      <td>849.402560</td>\n",
       "      <td>2.758864</td>\n",
       "      <td>3.683737</td>\n",
       "      <td>0.805518</td>\n",
       "    </tr>\n",
       "    <tr>\n",
       "      <th>min</th>\n",
       "      <td>1.000000</td>\n",
       "      <td>9.000000</td>\n",
       "      <td>3.000000</td>\n",
       "      <td>68.000000</td>\n",
       "      <td>46.000000</td>\n",
       "      <td>1613.000000</td>\n",
       "      <td>8.000000</td>\n",
       "      <td>70.000000</td>\n",
       "      <td>1.000000</td>\n",
       "    </tr>\n",
       "    <tr>\n",
       "      <th>25%</th>\n",
       "      <td>99.750000</td>\n",
       "      <td>17.000000</td>\n",
       "      <td>4.000000</td>\n",
       "      <td>105.000000</td>\n",
       "      <td>75.000000</td>\n",
       "      <td>2225.250000</td>\n",
       "      <td>13.775000</td>\n",
       "      <td>73.000000</td>\n",
       "      <td>1.000000</td>\n",
       "    </tr>\n",
       "    <tr>\n",
       "      <th>50%</th>\n",
       "      <td>198.500000</td>\n",
       "      <td>22.750000</td>\n",
       "      <td>4.000000</td>\n",
       "      <td>151.000000</td>\n",
       "      <td>93.500000</td>\n",
       "      <td>2803.500000</td>\n",
       "      <td>15.500000</td>\n",
       "      <td>76.000000</td>\n",
       "      <td>1.000000</td>\n",
       "    </tr>\n",
       "    <tr>\n",
       "      <th>75%</th>\n",
       "      <td>296.250000</td>\n",
       "      <td>29.000000</td>\n",
       "      <td>8.000000</td>\n",
       "      <td>275.750000</td>\n",
       "      <td>126.000000</td>\n",
       "      <td>3614.750000</td>\n",
       "      <td>17.025000</td>\n",
       "      <td>79.000000</td>\n",
       "      <td>2.000000</td>\n",
       "    </tr>\n",
       "    <tr>\n",
       "      <th>max</th>\n",
       "      <td>397.000000</td>\n",
       "      <td>46.600000</td>\n",
       "      <td>8.000000</td>\n",
       "      <td>455.000000</td>\n",
       "      <td>230.000000</td>\n",
       "      <td>5140.000000</td>\n",
       "      <td>24.800000</td>\n",
       "      <td>82.000000</td>\n",
       "      <td>3.000000</td>\n",
       "    </tr>\n",
       "  </tbody>\n",
       "</table>\n",
       "</div>"
      ],
      "text/plain": [
       "       Unnamed: 0         mpg   cylinders  displacement  horsepower  \\\n",
       "count  392.000000  392.000000  392.000000    392.000000  392.000000   \n",
       "mean   198.520408   23.445918    5.471939    194.411990  104.469388   \n",
       "std    114.438067    7.805007    1.705783    104.644004   38.491160   \n",
       "min      1.000000    9.000000    3.000000     68.000000   46.000000   \n",
       "25%     99.750000   17.000000    4.000000    105.000000   75.000000   \n",
       "50%    198.500000   22.750000    4.000000    151.000000   93.500000   \n",
       "75%    296.250000   29.000000    8.000000    275.750000  126.000000   \n",
       "max    397.000000   46.600000    8.000000    455.000000  230.000000   \n",
       "\n",
       "            weight  acceleration        year      origin  \n",
       "count   392.000000    392.000000  392.000000  392.000000  \n",
       "mean   2977.584184     15.541327   75.979592    1.576531  \n",
       "std     849.402560      2.758864    3.683737    0.805518  \n",
       "min    1613.000000      8.000000   70.000000    1.000000  \n",
       "25%    2225.250000     13.775000   73.000000    1.000000  \n",
       "50%    2803.500000     15.500000   76.000000    1.000000  \n",
       "75%    3614.750000     17.025000   79.000000    2.000000  \n",
       "max    5140.000000     24.800000   82.000000    3.000000  "
      ]
     },
     "execution_count": 51,
     "metadata": {},
     "output_type": "execute_result"
    }
   ],
   "source": [
    "#descriptive statistics of the datasets. \n",
    "Auto.describe()"
   ]
  },
  {
   "cell_type": "code",
   "execution_count": null,
   "metadata": {},
   "outputs": [],
   "source": []
  },
  {
   "cell_type": "code",
   "execution_count": null,
   "metadata": {},
   "outputs": [],
   "source": []
  },
  {
   "cell_type": "code",
   "execution_count": null,
   "metadata": {},
   "outputs": [],
   "source": []
  }
 ],
 "metadata": {
  "anaconda-cloud": {},
  "kernelspec": {
   "display_name": "Python 3 (ipykernel)",
   "language": "python",
   "name": "python3"
  },
  "language_info": {
   "codemirror_mode": {
    "name": "ipython",
    "version": 3
   },
   "file_extension": ".py",
   "mimetype": "text/x-python",
   "name": "python",
   "nbconvert_exporter": "python",
   "pygments_lexer": "ipython3",
   "version": "3.9.7"
  }
 },
 "nbformat": 4,
 "nbformat_minor": 1
}
